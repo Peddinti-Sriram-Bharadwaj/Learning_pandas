{
 "cells": [
  {
   "cell_type": "code",
   "execution_count": 1,
   "id": "ff35d124-ea30-4f42-a3a8-5b730bc95a0b",
   "metadata": {},
   "outputs": [],
   "source": [
    "import pandas as pd"
   ]
  },
  {
   "cell_type": "code",
   "execution_count": 3,
   "id": "4d44fc3e-0e4a-4621-a310-0f3adb31f114",
   "metadata": {},
   "outputs": [
    {
     "data": {
      "text/html": [
       "<div>\n",
       "<style scoped>\n",
       "    .dataframe tbody tr th:only-of-type {\n",
       "        vertical-align: middle;\n",
       "    }\n",
       "\n",
       "    .dataframe tbody tr th {\n",
       "        vertical-align: top;\n",
       "    }\n",
       "\n",
       "    .dataframe thead th {\n",
       "        text-align: right;\n",
       "    }\n",
       "</style>\n",
       "<table border=\"1\" class=\"dataframe\">\n",
       "  <thead>\n",
       "    <tr style=\"text-align: right;\">\n",
       "      <th></th>\n",
       "      <th>Autobots</th>\n",
       "      <th>Decepticons</th>\n",
       "    </tr>\n",
       "  </thead>\n",
       "  <tbody>\n",
       "    <tr>\n",
       "      <th>0</th>\n",
       "      <td>Optimus Prime</td>\n",
       "      <td>Megatron</td>\n",
       "    </tr>\n",
       "    <tr>\n",
       "      <th>1</th>\n",
       "      <td>Ironhide</td>\n",
       "      <td>Soundwave</td>\n",
       "    </tr>\n",
       "  </tbody>\n",
       "</table>\n",
       "</div>"
      ],
      "text/plain": [
       "        Autobots Decepticons\n",
       "0  Optimus Prime    Megatron\n",
       "1       Ironhide   Soundwave"
      ]
     },
     "execution_count": 3,
     "metadata": {},
     "output_type": "execute_result"
    }
   ],
   "source": [
    "pd.DataFrame({\"Autobots\" : [\"Optimus Prime\", \"Ironhide\"], \"Decepticons\" : [\"Megatron\", \"Soundwave\"]})"
   ]
  },
  {
   "cell_type": "code",
   "execution_count": 4,
   "id": "2210f1b1-d252-41b7-884a-587076f58219",
   "metadata": {},
   "outputs": [],
   "source": [
    "a = \"Autobots\"\n",
    "b = \"Decepticons\""
   ]
  },
  {
   "cell_type": "code",
   "execution_count": 5,
   "id": "4f3a2683-b0dc-41c8-83aa-1a084868593c",
   "metadata": {},
   "outputs": [
    {
     "data": {
      "text/html": [
       "<div>\n",
       "<style scoped>\n",
       "    .dataframe tbody tr th:only-of-type {\n",
       "        vertical-align: middle;\n",
       "    }\n",
       "\n",
       "    .dataframe tbody tr th {\n",
       "        vertical-align: top;\n",
       "    }\n",
       "\n",
       "    .dataframe thead th {\n",
       "        text-align: right;\n",
       "    }\n",
       "</style>\n",
       "<table border=\"1\" class=\"dataframe\">\n",
       "  <thead>\n",
       "    <tr style=\"text-align: right;\">\n",
       "      <th></th>\n",
       "      <th>Autobots</th>\n",
       "      <th>Decepticons</th>\n",
       "    </tr>\n",
       "  </thead>\n",
       "  <tbody>\n",
       "    <tr>\n",
       "      <th>0</th>\n",
       "      <td>Optimus Prime</td>\n",
       "      <td>Megatron</td>\n",
       "    </tr>\n",
       "    <tr>\n",
       "      <th>1</th>\n",
       "      <td>Ironhide</td>\n",
       "      <td>Soundwave</td>\n",
       "    </tr>\n",
       "  </tbody>\n",
       "</table>\n",
       "</div>"
      ],
      "text/plain": [
       "        Autobots Decepticons\n",
       "0  Optimus Prime    Megatron\n",
       "1       Ironhide   Soundwave"
      ]
     },
     "execution_count": 5,
     "metadata": {},
     "output_type": "execute_result"
    }
   ],
   "source": [
    "pd.DataFrame({a : [\"Optimus Prime\", \"Ironhide\"], b : [\"Megatron\", \"Soundwave\"]})"
   ]
  },
  {
   "cell_type": "code",
   "execution_count": 6,
   "id": "698a941e-658c-4ae8-82b4-8175f47bbc95",
   "metadata": {},
   "outputs": [
    {
     "data": {
      "text/html": [
       "<div>\n",
       "<style scoped>\n",
       "    .dataframe tbody tr th:only-of-type {\n",
       "        vertical-align: middle;\n",
       "    }\n",
       "\n",
       "    .dataframe tbody tr th {\n",
       "        vertical-align: top;\n",
       "    }\n",
       "\n",
       "    .dataframe thead th {\n",
       "        text-align: right;\n",
       "    }\n",
       "</style>\n",
       "<table border=\"1\" class=\"dataframe\">\n",
       "  <thead>\n",
       "    <tr style=\"text-align: right;\">\n",
       "      <th></th>\n",
       "      <th>Autobots</th>\n",
       "      <th>Decepticons</th>\n",
       "    </tr>\n",
       "  </thead>\n",
       "  <tbody>\n",
       "    <tr>\n",
       "      <th>Leader</th>\n",
       "      <td>Optimus Prime</td>\n",
       "      <td>Megatron</td>\n",
       "    </tr>\n",
       "    <tr>\n",
       "      <th>Second in Command</th>\n",
       "      <td>Ironhide</td>\n",
       "      <td>Soundwave</td>\n",
       "    </tr>\n",
       "  </tbody>\n",
       "</table>\n",
       "</div>"
      ],
      "text/plain": [
       "                        Autobots Decepticons\n",
       "Leader             Optimus Prime    Megatron\n",
       "Second in Command       Ironhide   Soundwave"
      ]
     },
     "execution_count": 6,
     "metadata": {},
     "output_type": "execute_result"
    }
   ],
   "source": [
    "pd.DataFrame({a : [\"Optimus Prime\", \"Ironhide\"], b : [\"Megatron\", \"Soundwave\"]},index =['Leader', 'Second in Command'])"
   ]
  },
  {
   "cell_type": "code",
   "execution_count": 7,
   "id": "b62ede3b-b3d9-4ef9-a6fa-cf10a098e95c",
   "metadata": {},
   "outputs": [
    {
     "data": {
      "text/plain": [
       "0    Hokage\n",
       "1      Anbu\n",
       "2     Jonin\n",
       "3    Chunin\n",
       "4     Genin\n",
       "dtype: object"
      ]
     },
     "execution_count": 7,
     "metadata": {},
     "output_type": "execute_result"
    }
   ],
   "source": [
    "pd.Series([\"Hokage\", \"Anbu\", \"Jonin\", \"Chunin\", \"Genin\"])"
   ]
  },
  {
   "cell_type": "code",
   "execution_count": 9,
   "id": "b58628d0-bf99-416a-9d6b-24387e766e6a",
   "metadata": {},
   "outputs": [
    {
     "data": {
      "text/plain": [
       "5    Hokage\n",
       "4      Anbu\n",
       "3     Jonin\n",
       "2    Chunin\n",
       "1     Genin\n",
       "Name: Shinobi levels, dtype: object"
      ]
     },
     "execution_count": 9,
     "metadata": {},
     "output_type": "execute_result"
    }
   ],
   "source": [
    "pd.Series([\"Hokage\", \"Anbu\", \"Jonin\", \"Chunin\", \"Genin\"], index = [i for i in range(5,0,-1)], name = \"Shinobi levels\")"
   ]
  },
  {
   "cell_type": "code",
   "execution_count": null,
   "id": "926f3485-0f89-4894-a822-628d2a583aad",
   "metadata": {},
   "outputs": [],
   "source": []
  }
 ],
 "metadata": {
  "kernelspec": {
   "display_name": "Python 3 (ipykernel)",
   "language": "python",
   "name": "python3"
  },
  "language_info": {
   "codemirror_mode": {
    "name": "ipython",
    "version": 3
   },
   "file_extension": ".py",
   "mimetype": "text/x-python",
   "name": "python",
   "nbconvert_exporter": "python",
   "pygments_lexer": "ipython3",
   "version": "3.12.4"
  }
 },
 "nbformat": 4,
 "nbformat_minor": 5
}
